{
 "cells": [
  {
   "cell_type": "code",
   "execution_count": 5,
   "metadata": {},
   "outputs": [],
   "source": [
    "import pandas as pd\n",
    "import numpy as np\n",
    "import datetime, requests, os, json"
   ]
  },
  {
   "cell_type": "code",
   "execution_count": 153,
   "metadata": {},
   "outputs": [],
   "source": [
    "def get_specific_btc_block_json(block_id):\n",
    "    url = 'https://blockchain.info/rawblock/' + str(block_id)\n",
    "    r = requests.get(url=url)\n",
    "    return r.json()\n",
    "\n",
    "# TEST START ---------------------------------\n",
    "request_json_60k = get_specific_btc_block_json(60000)\n",
    "request_json_600k = get_specific_btc_block_json(600000)\n"
   ]
  },
  {
   "cell_type": "code",
   "execution_count": 165,
   "metadata": {},
   "outputs": [
    {
     "name": "stdout",
     "output_type": "stream",
     "text": [
      "True\n",
      "True\n",
      "True\n",
      "True\n"
     ]
    }
   ],
   "source": [
    "print(request_json_60k['hash'] == '000000000b554c46f8eb7264d7d5e334382c6fc3098dabf734de37962ccd7495')\n",
    "# TEST END ---------------------------------\n",
    "\n",
    "def parse_n_add_block_header(file_path, block_data):\n",
    "    # Slicing off trx from block json\n",
    "    block_header = {key:val for key, val in block_data.items() if type(val) is not list}\n",
    "    # Convert to df\n",
    "    df = pd.DataFrame(block_header, index=[0])\n",
    "    if os.path.exists(file_path): # If file exists\n",
    "        # Add to existing csv (create if not existing)\n",
    "        df.to_csv(file_path, mode='a', index=False, header=False)\n",
    "    else: # If file not yet existing, create\n",
    "        df.to_csv(file_path, index=False, header=True)\n",
    "\n",
    "# TEST START ---------------------------------\n",
    "file_path = '/Users/sachaschwab/Dropbox/Projects/Blockchain Analytics/blk_headers_test.csv'\n",
    "# Make sure text.csv not yet existing. Accept if two same lines in file\n",
    "if os.path.exists(file_path):\n",
    "    os.remove(file_path)\n",
    "parse_n_add_block_header(file_path=file_path, block_data=request_json_60k)\n",
    "parse_n_add_block_header(file_path=file_path, block_data=request_json_60k)\n",
    "df_test = pd.read_csv(file_path)\n",
    "print(len(df_test) == 2 )\n",
    "#print(df_test.iloc[0] == df_test.iloc[1])\n",
    "print(df_test['hash'][0] == df_test['hash'][1])\n",
    "# TEST END ---------------------------------\n",
    "\n",
    "def parse_n_add_tx_header(file_path, block_data):\n",
    "    df_tx_headers = pd.DataFrame()\n",
    "    for tx_item in block_data['tx']:\n",
    "        # dict comprehension over items\n",
    "        trx_header = {key:val for key, val in tx_item.items() if type(val) is not list}\n",
    "        # convert dict to df\n",
    "        df = pd.DataFrame(trx_header, index=[0])\n",
    "        df_tx_headers = pd.concat([df_tx_headers, df], ignore_index=True)\n",
    "\n",
    "    if os.path.exists(file_path): # If file exists\n",
    "        # Add to existing csv (create if not existing)\n",
    "        df_tx_headers.to_csv(file_path, mode='a', index=False, header=False)\n",
    "    else: # If file not yet existing, create\n",
    "        df_tx_headers.to_csv(file_path, index=False, header=True)\n",
    "\n",
    "# TEST START ---------------------------------\n",
    "file_path = '/Users/sachaschwab/Dropbox/Projects/Blockchain Analytics/tx_heaers_test.csv'\n",
    "if os.path.exists(file_path):\n",
    "    os.remove(file_path)\n",
    "parse_n_add_tx_header(file_path, request_json_60k)\n",
    "df_test = pd.read_csv(file_path)\n",
    "print(df_test.iloc[-1]['hash'] == 'f0215df69bd55e44acd06c54a21ef671619e6ddc2fadbf659a48587cf343b1af')\n",
    "# TEST END ---------------------------------\n"
   ]
  },
  {
   "cell_type": "code",
   "execution_count": 156,
   "metadata": {},
   "outputs": [],
   "source": [
    "if os.path.exists(file_path):\n",
    "    os.remove(file_path)\n",
    "parse_n_add_tx_header(file_path, request_json_600k)\n",
    "\n",
    "# TEST START ---------------------------------\n",
    "\n",
    "# TEST END ---------------------------------"
   ]
  },
  {
   "cell_type": "code",
   "execution_count": null,
   "metadata": {},
   "outputs": [],
   "source": [
    "request_json_600k"
   ]
  },
  {
   "cell_type": "code",
   "execution_count": 159,
   "metadata": {},
   "outputs": [
    {
     "data": {
      "text/plain": [
       "0    a\n",
       "1    b\n",
       "0    c\n",
       "1    d\n",
       "dtype: object"
      ]
     },
     "execution_count": 159,
     "metadata": {},
     "output_type": "execute_result"
    }
   ],
   "source": [
    "s1 = pd.Series(['a', 'b'])\n",
    "s2 = pd.Series(['c', 'd'])\n",
    "pd.concat([s1, s2])"
   ]
  },
  {
   "cell_type": "code",
   "execution_count": null,
   "metadata": {},
   "outputs": [],
   "source": [
    "json_data"
   ]
  },
  {
   "cell_type": "code",
   "execution_count": 32,
   "metadata": {},
   "outputs": [
    {
     "data": {
      "text/html": [
       "<div>\n",
       "<style scoped>\n",
       "    .dataframe tbody tr th:only-of-type {\n",
       "        vertical-align: middle;\n",
       "    }\n",
       "\n",
       "    .dataframe tbody tr th {\n",
       "        vertical-align: top;\n",
       "    }\n",
       "\n",
       "    .dataframe thead th {\n",
       "        text-align: right;\n",
       "    }\n",
       "</style>\n",
       "<table border=\"1\" class=\"dataframe\">\n",
       "  <thead>\n",
       "    <tr style=\"text-align: right;\">\n",
       "      <th></th>\n",
       "      <th>hash</th>\n",
       "      <th>ver</th>\n",
       "      <th>vin_sz</th>\n",
       "      <th>vout_sz</th>\n",
       "      <th>size</th>\n",
       "      <th>weight</th>\n",
       "      <th>fee</th>\n",
       "      <th>relayed_by</th>\n",
       "      <th>lock_time</th>\n",
       "      <th>tx_index</th>\n",
       "      <th>double_spend</th>\n",
       "      <th>time</th>\n",
       "      <th>block_index</th>\n",
       "      <th>block_height</th>\n",
       "      <th>inputs</th>\n",
       "      <th>out</th>\n",
       "    </tr>\n",
       "  </thead>\n",
       "  <tbody>\n",
       "    <tr>\n",
       "      <th>0</th>\n",
       "      <td>93955d40d918d014903843d258aada5c720a5d37afac78...</td>\n",
       "      <td>1</td>\n",
       "      <td>1</td>\n",
       "      <td>2</td>\n",
       "      <td>200</td>\n",
       "      <td>692</td>\n",
       "      <td>0</td>\n",
       "      <td>0.0.0.0</td>\n",
       "      <td>0</td>\n",
       "      <td>5745043599214769</td>\n",
       "      <td>False</td>\n",
       "      <td>1571443461</td>\n",
       "      <td>600000</td>\n",
       "      <td>600000</td>\n",
       "      <td>[{'sequence': 4294967295, 'witness': '01200000...</td>\n",
       "      <td>[{'type': 0, 'spent': True, 'value': 125376404...</td>\n",
       "    </tr>\n",
       "    <tr>\n",
       "      <th>1</th>\n",
       "      <td>a8178a7223372414ac060b4bba4b33b8b4847a756fa76a...</td>\n",
       "      <td>2</td>\n",
       "      <td>1</td>\n",
       "      <td>3</td>\n",
       "      <td>290</td>\n",
       "      <td>1160</td>\n",
       "      <td>100000</td>\n",
       "      <td>0.0.0.0</td>\n",
       "      <td>0</td>\n",
       "      <td>7503592271527870</td>\n",
       "      <td>False</td>\n",
       "      <td>1571443461</td>\n",
       "      <td>600000</td>\n",
       "      <td>600000</td>\n",
       "      <td>[{'sequence': 4294967295, 'witness': '', 'scri...</td>\n",
       "      <td>[{'type': 0, 'spent': True, 'value': 795759, '...</td>\n",
       "    </tr>\n",
       "    <tr>\n",
       "      <th>2</th>\n",
       "      <td>efb3f60304532ebc80163b5f375fa8a94a39a8b0807b99...</td>\n",
       "      <td>2</td>\n",
       "      <td>5</td>\n",
       "      <td>2</td>\n",
       "      <td>910</td>\n",
       "      <td>2341</td>\n",
       "      <td>117400</td>\n",
       "      <td>0.0.0.0</td>\n",
       "      <td>599998</td>\n",
       "      <td>6753953176718477</td>\n",
       "      <td>False</td>\n",
       "      <td>1571443461</td>\n",
       "      <td>600000</td>\n",
       "      <td>600000</td>\n",
       "      <td>[{'sequence': 4294967294, 'witness': '', 'scri...</td>\n",
       "      <td>[{'type': 0, 'spent': True, 'value': 882998, '...</td>\n",
       "    </tr>\n",
       "    <tr>\n",
       "      <th>3</th>\n",
       "      <td>a070eda356c87a7af9bff22eab3b3c38460605eb00938c...</td>\n",
       "      <td>2</td>\n",
       "      <td>2</td>\n",
       "      <td>2</td>\n",
       "      <td>399</td>\n",
       "      <td>1266</td>\n",
       "      <td>50880</td>\n",
       "      <td>0.0.0.0</td>\n",
       "      <td>599999</td>\n",
       "      <td>4239768503034797</td>\n",
       "      <td>False</td>\n",
       "      <td>1571443461</td>\n",
       "      <td>600000</td>\n",
       "      <td>600000</td>\n",
       "      <td>[{'sequence': 4294967294, 'witness': '', 'scri...</td>\n",
       "      <td>[{'type': 0, 'spent': True, 'value': 1111362, ...</td>\n",
       "    </tr>\n",
       "    <tr>\n",
       "      <th>4</th>\n",
       "      <td>b96b516295b8e4f5452405db8213ca56cde630b7a30c2a...</td>\n",
       "      <td>2</td>\n",
       "      <td>1</td>\n",
       "      <td>2</td>\n",
       "      <td>249</td>\n",
       "      <td>669</td>\n",
       "      <td>16800</td>\n",
       "      <td>0.0.0.0</td>\n",
       "      <td>599983</td>\n",
       "      <td>1478774222172713</td>\n",
       "      <td>False</td>\n",
       "      <td>1571443461</td>\n",
       "      <td>600000</td>\n",
       "      <td>600000</td>\n",
       "      <td>[{'sequence': 4294967293, 'witness': '02473044...</td>\n",
       "      <td>[{'type': 0, 'spent': True, 'value': 50000, 's...</td>\n",
       "    </tr>\n",
       "  </tbody>\n",
       "</table>\n",
       "</div>"
      ],
      "text/plain": [
       "                                                hash  ver  vin_sz  vout_sz  \\\n",
       "0  93955d40d918d014903843d258aada5c720a5d37afac78...    1       1        2   \n",
       "1  a8178a7223372414ac060b4bba4b33b8b4847a756fa76a...    2       1        3   \n",
       "2  efb3f60304532ebc80163b5f375fa8a94a39a8b0807b99...    2       5        2   \n",
       "3  a070eda356c87a7af9bff22eab3b3c38460605eb00938c...    2       2        2   \n",
       "4  b96b516295b8e4f5452405db8213ca56cde630b7a30c2a...    2       1        2   \n",
       "\n",
       "   size  weight     fee relayed_by  lock_time          tx_index  double_spend  \\\n",
       "0   200     692       0    0.0.0.0          0  5745043599214769         False   \n",
       "1   290    1160  100000    0.0.0.0          0  7503592271527870         False   \n",
       "2   910    2341  117400    0.0.0.0     599998  6753953176718477         False   \n",
       "3   399    1266   50880    0.0.0.0     599999  4239768503034797         False   \n",
       "4   249     669   16800    0.0.0.0     599983  1478774222172713         False   \n",
       "\n",
       "         time  block_index  block_height  \\\n",
       "0  1571443461       600000        600000   \n",
       "1  1571443461       600000        600000   \n",
       "2  1571443461       600000        600000   \n",
       "3  1571443461       600000        600000   \n",
       "4  1571443461       600000        600000   \n",
       "\n",
       "                                              inputs  \\\n",
       "0  [{'sequence': 4294967295, 'witness': '01200000...   \n",
       "1  [{'sequence': 4294967295, 'witness': '', 'scri...   \n",
       "2  [{'sequence': 4294967294, 'witness': '', 'scri...   \n",
       "3  [{'sequence': 4294967294, 'witness': '', 'scri...   \n",
       "4  [{'sequence': 4294967293, 'witness': '02473044...   \n",
       "\n",
       "                                                 out  \n",
       "0  [{'type': 0, 'spent': True, 'value': 125376404...  \n",
       "1  [{'type': 0, 'spent': True, 'value': 795759, '...  \n",
       "2  [{'type': 0, 'spent': True, 'value': 882998, '...  \n",
       "3  [{'type': 0, 'spent': True, 'value': 1111362, ...  \n",
       "4  [{'type': 0, 'spent': True, 'value': 50000, 's...  "
      ]
     },
     "execution_count": 32,
     "metadata": {},
     "output_type": "execute_result"
    }
   ],
   "source": [
    "n_tx = request_json['n_tx']\n",
    "df_tx_headers = pd.DataFrame.from_dict(request_json['tx'])\n",
    "df_tx_headers.head()"
   ]
  },
  {
   "cell_type": "code",
   "execution_count": 28,
   "metadata": {},
   "outputs": [
    {
     "data": {
      "text/html": [
       "<div>\n",
       "<style scoped>\n",
       "    .dataframe tbody tr th:only-of-type {\n",
       "        vertical-align: middle;\n",
       "    }\n",
       "\n",
       "    .dataframe tbody tr th {\n",
       "        vertical-align: top;\n",
       "    }\n",
       "\n",
       "    .dataframe thead th {\n",
       "        text-align: right;\n",
       "    }\n",
       "</style>\n",
       "<table border=\"1\" class=\"dataframe\">\n",
       "  <thead>\n",
       "    <tr style=\"text-align: right;\">\n",
       "      <th></th>\n",
       "      <th>hash</th>\n",
       "      <th>ver</th>\n",
       "      <th>prev_block</th>\n",
       "      <th>mrkl_root</th>\n",
       "      <th>time</th>\n",
       "      <th>bits</th>\n",
       "      <th>fee</th>\n",
       "      <th>nonce</th>\n",
       "      <th>n_tx</th>\n",
       "      <th>size</th>\n",
       "      <th>block_index</th>\n",
       "      <th>main_chain</th>\n",
       "      <th>height</th>\n",
       "      <th>weight</th>\n",
       "    </tr>\n",
       "  </thead>\n",
       "  <tbody>\n",
       "  </tbody>\n",
       "</table>\n",
       "</div>"
      ],
      "text/plain": [
       "Empty DataFrame\n",
       "Columns: [hash, ver, prev_block, mrkl_root, time, bits, fee, nonce, n_tx, size, block_index, main_chain, height, weight]\n",
       "Index: []"
      ]
     },
     "execution_count": 28,
     "metadata": {},
     "output_type": "execute_result"
    }
   ],
   "source": []
  },
  {
   "cell_type": "code",
   "execution_count": null,
   "metadata": {},
   "outputs": [],
   "source": [
    "# Extract block base info + transactions\n",
    "\n",
    "# Set up first heuristics\n",
    "\n"
   ]
  },
  {
   "cell_type": "code",
   "execution_count": null,
   "metadata": {},
   "outputs": [],
   "source": [
    "start_end_blk = [200000, 2000002]\n",
    "def main():\n",
    "    if len(start_end_blk) == 2: # keep array empty if using node data\n",
    "        blocks_to_parse = np.arange(start_end_blk[0], start_end_blk[1])\n",
    "    else: # node data\n",
    "        return(None)\n",
    "    \n"
   ]
  }
 ],
 "metadata": {
  "kernelspec": {
   "display_name": "Python 3.7.7",
   "language": "python",
   "name": "python3"
  },
  "language_info": {
   "codemirror_mode": {
    "name": "ipython",
    "version": 3
   },
   "file_extension": ".py",
   "mimetype": "text/x-python",
   "name": "python",
   "nbconvert_exporter": "python",
   "pygments_lexer": "ipython3",
   "version": "3.7.7"
  },
  "orig_nbformat": 4,
  "vscode": {
   "interpreter": {
    "hash": "b8974f25a2967b5c3fc7bf662d210eb1d311095419f414a0fabf03383566c811"
   }
  }
 },
 "nbformat": 4,
 "nbformat_minor": 2
}
