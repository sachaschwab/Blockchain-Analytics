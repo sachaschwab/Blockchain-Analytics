{
 "cells": [
  {
   "cell_type": "code",
   "execution_count": 3,
   "metadata": {},
   "outputs": [],
   "source": [
    "from neo4j import GraphDatabase"
   ]
  },
  {
   "cell_type": "code",
   "execution_count": 2,
   "metadata": {},
   "outputs": [],
   "source": [
    "from neo4j import GraphDatabase\n",
    "\n",
    "uri = \"neo4j://localhost:7687\"\n",
    "driver = GraphDatabase.driver(uri, auth=(\"neo4j\", \"shog84\"))\n",
    "\n",
    "def create_person(tx, name):\n",
    "    tx.run(\"CREATE (a:Person {name: $name})\", name=name)\n",
    "\n",
    "def create_friend_of(tx, name, friend):\n",
    "    tx.run(\"MATCH (a:Person) WHERE a.name = $name \"\n",
    "           \"CREATE (a)-[:KNOWS]->(:Person {name: $friend})\",\n",
    "           name=name, friend=friend)\n",
    "\n",
    "with driver.session() as session:\n",
    "    session.execute_write(create_person, \"Alice\")\n",
    "    session.execute_write(create_friend_of, \"Alice\", \"Bob\")\n",
    "    session.execute_write(create_friend_of, \"Alice\", \"Carl\")\n",
    "\n",
    "driver.close()\n",
    "\n",
    "# Learn: \n",
    "# - How to add several edge info pieces"
   ]
  },
  {
   "cell_type": "code",
   "execution_count": 17,
   "metadata": {},
   "outputs": [],
   "source": [
    "from neo4j import GraphDatabase\n",
    "\n",
    "uri = \"neo4j://localhost:7687\"\n",
    "driver = GraphDatabase.driver(uri, auth=(\"neo4j\", \"shog84\"))\n",
    "\n",
    "def create_address(tx, addr_hash):\n",
    "    tx.run(\"CREATE (a:Address {addr_hash: $addr_hash})\", addr_hash=addr_hash)\n",
    "\n",
    "def create_transaction(tx, addr_hash, out_address):\n",
    "    tx.run(\"MATCH (a:Address) WHERE a.addr_hash = $addr_hash \"\n",
    "           \"CREATE (a)-[:SENDS_TO]->(:Address {addr_hash: $out_address})\",\n",
    "           addr_hash=addr_hash, out_address=out_address)\n",
    "\n",
    "with driver.session() as session:\n",
    "    session.execute_write(create_address, \"a1\")\n",
    "    session.execute_write(create_address, \"a2\")\n",
    "    session.execute_write(create_transaction, \"a1\", \"b1\")\n",
    "    session.execute_write(create_transaction, \"b1\", \"b2\")\n",
    "    session.execute_write(create_transaction, \"a1\", \"a2\")\n",
    "    session.execute_write(create_transaction, \"a2\", \"b1\")\n",
    "    #session.execute_write(create_transaction, \"a2\", \"c1\")\n",
    "\n",
    "driver.close()\n",
    "\n",
    "# Learn: \n",
    "# - Add metainfo\n",
    "\n",
    "# Thoughts:\n",
    "# Edge info = value, block_id (??), tx_id\n",
    "# Node info = address"
   ]
  },
  {
   "cell_type": "code",
   "execution_count": null,
   "metadata": {},
   "outputs": [],
   "source": []
  }
 ],
 "metadata": {
  "kernelspec": {
   "display_name": "Python 3.7.7",
   "language": "python",
   "name": "python3"
  },
  "language_info": {
   "codemirror_mode": {
    "name": "ipython",
    "version": 3
   },
   "file_extension": ".py",
   "mimetype": "text/x-python",
   "name": "python",
   "nbconvert_exporter": "python",
   "pygments_lexer": "ipython3",
   "version": "3.7.7"
  },
  "orig_nbformat": 4,
  "vscode": {
   "interpreter": {
    "hash": "b8974f25a2967b5c3fc7bf662d210eb1d311095419f414a0fabf03383566c811"
   }
  }
 },
 "nbformat": 4,
 "nbformat_minor": 2
}
